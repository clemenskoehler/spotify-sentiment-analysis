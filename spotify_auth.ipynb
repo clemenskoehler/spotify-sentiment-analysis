{
 "cells": [
  {
   "cell_type": "code",
   "execution_count": 2,
   "metadata": {},
   "outputs": [
    {
     "name": "stdout",
     "output_type": "stream",
     "text": [
      "Please visit this URL to authorize the application: https://accounts.spotify.com/authorize?client_id=3b383995aa1e4476aeb8090792356122&response_type=code&redirect_uri=http%3A%2F%2Flocalhost%3A8080&scope=playlist-read-private\n",
      "Client access token: BQB2R13pLeR_iSrHbpe1hLc-TKW1f_xCz8_-ucouW_dW014prsJr1esRumQ0htRxvS6Je2CsaiiRpUQ5C8kObxNCsTC4fqjZ8-_D8FIQG8vYK4fpNFtZM7G5pSahZ3o2XkJG5pNae2owkihnVofN391OtJPcPozXYwKLIbVwBadYGX_O7jJ7kokHb2PzrGvFIQ\n"
     ]
    },
    {
     "name": "stderr",
     "output_type": "stream",
     "text": [
      "C:\\Users\\raffa\\AppData\\Local\\Temp\\ipykernel_3796\\3531890373.py:20: DeprecationWarning: You're using 'as_dict = True'.get_access_token will return the token string directly in future versions. Please adjust your code accordingly, or use get_cached_token instead.\n",
      "  token_info = sp.spotify.auth_manager.get_access_token(code)\n"
     ]
    }
   ],
   "source": [
    "from spotify_api import SpotifyAPI\n",
    "\n",
    "# Set the client ID, client secret, and redirect URI for your Spotify API application\n",
    "client_id = \"3b383995aa1e4476aeb8090792356122\"\n",
    "client_secret = \"a985379b0e894d38b9805e326bedf30a\"\n",
    "redirect_uri = 'http://localhost:8080'\n",
    "\n",
    "# Authenticate with the Spotify API using the SpotifyOAuth object\n",
    "sp = SpotifyAPI()\n",
    "sp.authenticate(scope=\"playlist-read-private\", client_id=client_id, client_secret=client_secret, redirect_uri=redirect_uri)\n",
    "\n",
    "# Get the URL to authorize the app with Spotify\n",
    "auth_url = sp.spotify.auth_manager.get_authorize_url()\n",
    "\n",
    "# Print the URL and prompt the user to visit it and authorize the app\n",
    "print(\"Please visit this URL to authorize the application: \" + auth_url)\n",
    "\n",
    "# Get the authorization code from the user and exchange it for a client access token\n",
    "code = input(\"Enter the authorization code: \")\n",
    "token_info = sp.spotify.auth_manager.get_access_token(code)\n",
    "\n",
    "# Print the client access token\n",
    "print(\"Client access token:\", token_info['access_token'])\n"
   ]
  }
 ],
 "metadata": {
  "kernelspec": {
   "display_name": "base",
   "language": "python",
   "name": "python3"
  },
  "language_info": {
   "name": "python",
   "version": "3.9.13"
  },
  "orig_nbformat": 4
 },
 "nbformat": 4,
 "nbformat_minor": 2
}
