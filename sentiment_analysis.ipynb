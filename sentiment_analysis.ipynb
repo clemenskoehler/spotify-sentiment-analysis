{
 "cells": [
  {
   "cell_type": "code",
   "execution_count": 8,
   "metadata": {},
   "outputs": [
    {
     "name": "stdout",
     "output_type": "stream",
     "text": [
      "Playlist  Mix de robba :\n"
     ]
    },
    {
     "ename": "TypeError",
     "evalue": "expected string or bytes-like object",
     "output_type": "error",
     "traceback": [
      "\u001B[1;31m---------------------------------------------------------------------------\u001B[0m",
      "\u001B[1;31mTypeError\u001B[0m                                 Traceback (most recent call last)",
      "Cell \u001B[1;32mIn[8], line 34\u001B[0m\n\u001B[0;32m     30\u001B[0m track_ids \u001B[38;5;241m=\u001B[39m spotify_api\u001B[38;5;241m.\u001B[39mget_playlist_tracks(\u001B[38;5;28mstr\u001B[39m(playlist[\u001B[38;5;124m'\u001B[39m\u001B[38;5;124mid\u001B[39m\u001B[38;5;124m'\u001B[39m]))\n\u001B[0;32m     32\u001B[0m \u001B[38;5;28mprint\u001B[39m(\u001B[38;5;124m\"\u001B[39m\u001B[38;5;124mPlaylist \u001B[39m\u001B[38;5;124m\"\u001B[39m, playlist[\u001B[38;5;124m'\u001B[39m\u001B[38;5;124mname\u001B[39m\u001B[38;5;124m'\u001B[39m], \u001B[38;5;124m\"\u001B[39m\u001B[38;5;124m:\u001B[39m\u001B[38;5;124m\"\u001B[39m)\n\u001B[1;32m---> 34\u001B[0m tracks_info \u001B[38;5;241m=\u001B[39m \u001B[43mspotify_api\u001B[49m\u001B[38;5;241;43m.\u001B[39;49m\u001B[43mget_tracks_info\u001B[49m\u001B[43m(\u001B[49m\u001B[43mtrack_ids\u001B[49m\u001B[43m)\u001B[49m\n\u001B[0;32m     35\u001B[0m tracks_lyrics \u001B[38;5;241m=\u001B[39m genius_api\u001B[38;5;241m.\u001B[39mget_lyrics(tracks_info)\n\u001B[0;32m     37\u001B[0m \u001B[38;5;28;01mfor\u001B[39;00m title, lyrics \u001B[38;5;129;01min\u001B[39;00m tracks_lyrics\u001B[38;5;241m.\u001B[39mitems():\n",
      "File \u001B[1;32m~\\PycharmProjects\\spotify-sentiment-analysis\\spotify_api.py:75\u001B[0m, in \u001B[0;36mSpotifyAPI.get_tracks_info\u001B[1;34m(self, track_ids)\u001B[0m\n\u001B[0;32m     72\u001B[0m tracks \u001B[38;5;241m=\u001B[39m []\n\u001B[0;32m     74\u001B[0m \u001B[38;5;28;01mfor\u001B[39;00m track_id \u001B[38;5;129;01min\u001B[39;00m track_ids:\n\u001B[1;32m---> 75\u001B[0m     track \u001B[38;5;241m=\u001B[39m \u001B[38;5;28;43mself\u001B[39;49m\u001B[38;5;241;43m.\u001B[39;49m\u001B[43mspotify\u001B[49m\u001B[38;5;241;43m.\u001B[39;49m\u001B[43mtrack\u001B[49m\u001B[43m(\u001B[49m\u001B[43mtrack_id\u001B[49m\u001B[43m)\u001B[49m\n\u001B[0;32m     76\u001B[0m     tracks\u001B[38;5;241m.\u001B[39mappend(track)\n\u001B[0;32m     78\u001B[0m \u001B[38;5;28;01mreturn\u001B[39;00m tracks\n",
      "File \u001B[1;32m~\\miniconda3\\envs\\tf\\lib\\site-packages\\spotipy\\client.py:368\u001B[0m, in \u001B[0;36mSpotify.track\u001B[1;34m(self, track_id, market)\u001B[0m\n\u001B[0;32m    360\u001B[0m \u001B[38;5;28;01mdef\u001B[39;00m \u001B[38;5;21mtrack\u001B[39m(\u001B[38;5;28mself\u001B[39m, track_id, market\u001B[38;5;241m=\u001B[39m\u001B[38;5;28;01mNone\u001B[39;00m):\n\u001B[0;32m    361\u001B[0m     \u001B[38;5;124;03m\"\"\" returns a single track given the track's ID, URI or URL\u001B[39;00m\n\u001B[0;32m    362\u001B[0m \n\u001B[0;32m    363\u001B[0m \u001B[38;5;124;03m        Parameters:\u001B[39;00m\n\u001B[0;32m    364\u001B[0m \u001B[38;5;124;03m            - track_id - a spotify URI, URL or ID\u001B[39;00m\n\u001B[0;32m    365\u001B[0m \u001B[38;5;124;03m            - market - an ISO 3166-1 alpha-2 country code.\u001B[39;00m\n\u001B[0;32m    366\u001B[0m \u001B[38;5;124;03m    \"\"\"\u001B[39;00m\n\u001B[1;32m--> 368\u001B[0m     trid \u001B[38;5;241m=\u001B[39m \u001B[38;5;28;43mself\u001B[39;49m\u001B[38;5;241;43m.\u001B[39;49m\u001B[43m_get_id\u001B[49m\u001B[43m(\u001B[49m\u001B[38;5;124;43m\"\u001B[39;49m\u001B[38;5;124;43mtrack\u001B[39;49m\u001B[38;5;124;43m\"\u001B[39;49m\u001B[43m,\u001B[49m\u001B[43m \u001B[49m\u001B[43mtrack_id\u001B[49m\u001B[43m)\u001B[49m\n\u001B[0;32m    369\u001B[0m     \u001B[38;5;28;01mreturn\u001B[39;00m \u001B[38;5;28mself\u001B[39m\u001B[38;5;241m.\u001B[39m_get(\u001B[38;5;124m\"\u001B[39m\u001B[38;5;124mtracks/\u001B[39m\u001B[38;5;124m\"\u001B[39m \u001B[38;5;241m+\u001B[39m trid, market\u001B[38;5;241m=\u001B[39mmarket)\n",
      "File \u001B[1;32m~\\miniconda3\\envs\\tf\\lib\\site-packages\\spotipy\\client.py:1967\u001B[0m, in \u001B[0;36mSpotify._get_id\u001B[1;34m(self, type, id)\u001B[0m\n\u001B[0;32m   1966\u001B[0m \u001B[38;5;28;01mdef\u001B[39;00m \u001B[38;5;21m_get_id\u001B[39m(\u001B[38;5;28mself\u001B[39m, \u001B[38;5;28mtype\u001B[39m, \u001B[38;5;28mid\u001B[39m):\n\u001B[1;32m-> 1967\u001B[0m     uri_match \u001B[38;5;241m=\u001B[39m \u001B[43mre\u001B[49m\u001B[38;5;241;43m.\u001B[39;49m\u001B[43msearch\u001B[49m\u001B[43m(\u001B[49m\u001B[43mSpotify\u001B[49m\u001B[38;5;241;43m.\u001B[39;49m\u001B[43m_regex_spotify_uri\u001B[49m\u001B[43m,\u001B[49m\u001B[43m \u001B[49m\u001B[38;5;28;43mid\u001B[39;49m\u001B[43m)\u001B[49m\n\u001B[0;32m   1968\u001B[0m     \u001B[38;5;28;01mif\u001B[39;00m uri_match \u001B[38;5;129;01mis\u001B[39;00m \u001B[38;5;129;01mnot\u001B[39;00m \u001B[38;5;28;01mNone\u001B[39;00m:\n\u001B[0;32m   1969\u001B[0m         uri_match_groups \u001B[38;5;241m=\u001B[39m uri_match\u001B[38;5;241m.\u001B[39mgroupdict()\n",
      "File \u001B[1;32m~\\miniconda3\\envs\\tf\\lib\\re.py:201\u001B[0m, in \u001B[0;36msearch\u001B[1;34m(pattern, string, flags)\u001B[0m\n\u001B[0;32m    198\u001B[0m \u001B[38;5;28;01mdef\u001B[39;00m \u001B[38;5;21msearch\u001B[39m(pattern, string, flags\u001B[38;5;241m=\u001B[39m\u001B[38;5;241m0\u001B[39m):\n\u001B[0;32m    199\u001B[0m     \u001B[38;5;124;03m\"\"\"Scan through string looking for a match to the pattern, returning\u001B[39;00m\n\u001B[0;32m    200\u001B[0m \u001B[38;5;124;03m    a Match object, or None if no match was found.\"\"\"\u001B[39;00m\n\u001B[1;32m--> 201\u001B[0m     \u001B[38;5;28;01mreturn\u001B[39;00m \u001B[43m_compile\u001B[49m\u001B[43m(\u001B[49m\u001B[43mpattern\u001B[49m\u001B[43m,\u001B[49m\u001B[43m \u001B[49m\u001B[43mflags\u001B[49m\u001B[43m)\u001B[49m\u001B[38;5;241;43m.\u001B[39;49m\u001B[43msearch\u001B[49m\u001B[43m(\u001B[49m\u001B[43mstring\u001B[49m\u001B[43m)\u001B[49m\n",
      "\u001B[1;31mTypeError\u001B[0m: expected string or bytes-like object"
     ]
    }
   ],
   "source": [
    "import os\n",
    "from spotify_api import SpotifyAPI\n",
    "from genius_api import GeniusAPI\n",
    "from sentiment_analyzer import SentimentAnalyzer\n",
    "\n",
    "# Set the client ID, client secret, and redirect URI for your Spotify API application\n",
    "client_id = \"3b383995aa1e4476aeb8090792356122\"\n",
    "client_secret = \"a985379b0e894d38b9805e326bedf30a\"\n",
    "redirect_uri = 'http://localhost:8080'\n",
    "genius_token = \"-YBRRHhrBgG0JIqi29wYKqNhvlilQ6heuJaN0VOR0z2eNiL4MadFf4PV_juK4cbD\"\n",
    "\n",
    "# Authenticate with the Spotify API using the SpotifyOAuth object\n",
    "spotify_api = SpotifyAPI()\n",
    "spotify_api.authenticate(scope=[\"playlist-read-private\", \"user-read-private\"], client_id=client_id, client_secret=client_secret, redirect_uri=redirect_uri)\n",
    "\n",
    "# Get the IDs of the user's playlists\n",
    "playlists = spotify_api.get_user_playlists()\n",
    "#print(playlist_ids)\n",
    "\n",
    "# Create a GeniusAPI object to access the Genius API\n",
    "genius_api = GeniusAPI()\n",
    "genius_api.authenticate(genius_token)\n",
    "\n",
    "# Create a SentimentAnalyzer object to perform sentiment analysis on the lyrics\n",
    "analyzer = SentimentAnalyzer()\n",
    "\n",
    "# Loop through the user's playlists and get the lyrics for each song\n",
    "for playlist in playlists:\n",
    "    # Get the song IDs in the playlist\n",
    "    track_ids = spotify_api.get_playlist_tracks(str(playlist['id']))\n",
    "\n",
    "    print(\"Playlist \", playlist['name'], \":\")\n",
    "\n",
    "    tracks_info = spotify_api.get_tracks_info(track_ids)\n",
    "    tracks_lyrics = genius_api.get_lyrics(tracks_info)\n",
    "\n",
    "    for title, lyrics in tracks_lyrics.items():\n",
    "        print(\"Lyrics of song \", title, \": \", lyrics)\n",
    "\n",
    "    tracks_lyrics = analyzer.clean_lyrics(tracks_lyrics)\n",
    "\n",
    "    for title, lyrics in tracks_lyrics.items():\n",
    "        print(\"Cleaned lyrics of song \", title, \": \", lyrics)\n",
    "\n",
    "    vader_scores = analyzer.analyze_lyrics_vader(tracks_lyrics)\n",
    "    textblob_scores = analyzer.analyze_lyrics_textblob(tracks_lyrics)\n",
    "\n",
    "    print(\"VADER polarity scores:\")\n",
    "    for title, score in vader_scores.items():\n",
    "        print(title, \": \", score)\n",
    "\n",
    "    print(\"TextBlob polarity scores:\")\n",
    "    for title, score in textblob_scores.items():\n",
    "        print(title, \": \", score)\n"
   ]
  },
  {
   "cell_type": "code",
   "execution_count": null,
   "metadata": {},
   "outputs": [],
   "source": []
  }
 ],
 "metadata": {
  "kernelspec": {
   "display_name": "base",
   "language": "python",
   "name": "python3"
  },
  "language_info": {
   "codemirror_mode": {
    "name": "ipython",
    "version": 3
   },
   "file_extension": ".py",
   "mimetype": "text/x-python",
   "name": "python",
   "nbconvert_exporter": "python",
   "pygments_lexer": "ipython3",
   "version": "3.9.13"
  },
  "orig_nbformat": 4
 },
 "nbformat": 4,
 "nbformat_minor": 2
}
