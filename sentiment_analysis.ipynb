{
 "cells": [
  {
   "cell_type": "code",
   "execution_count": 8,
   "metadata": {},
   "outputs": [
    {
     "ename": "ImportError",
     "evalue": "attempted relative import with no known parent package",
     "output_type": "error",
     "traceback": [
      "\u001B[0;31m---------------------------------------------------------------------------\u001B[0m",
      "\u001B[0;31mImportError\u001B[0m                               Traceback (most recent call last)",
      "\u001B[0;32m/var/folders/q_/xfmhpj8j3zn744gggpfmhgmc0000gp/T/ipykernel_4543/63460085.py\u001B[0m in \u001B[0;36m<module>\u001B[0;34m\u001B[0m\n\u001B[1;32m      1\u001B[0m \u001B[0;32mimport\u001B[0m \u001B[0mos\u001B[0m\u001B[0;34m\u001B[0m\u001B[0;34m\u001B[0m\u001B[0m\n\u001B[0;32m----> 2\u001B[0;31m \u001B[0;32mfrom\u001B[0m \u001B[0;34m.\u001B[0m\u001B[0;34m.\u001B[0m\u001B[0msrc\u001B[0m\u001B[0;34m.\u001B[0m\u001B[0mspotify_api\u001B[0m \u001B[0;32mimport\u001B[0m \u001B[0mSpotifyAPI\u001B[0m\u001B[0;34m\u001B[0m\u001B[0;34m\u001B[0m\u001B[0m\n\u001B[0m\u001B[1;32m      3\u001B[0m \u001B[0;32mfrom\u001B[0m \u001B[0;34m.\u001B[0m\u001B[0;34m.\u001B[0m\u001B[0msrc\u001B[0m\u001B[0;34m.\u001B[0m\u001B[0mgenius_api\u001B[0m \u001B[0;32mimport\u001B[0m \u001B[0mGeniusAPI\u001B[0m\u001B[0;34m\u001B[0m\u001B[0;34m\u001B[0m\u001B[0m\n\u001B[1;32m      4\u001B[0m \u001B[0;32mfrom\u001B[0m \u001B[0;34m.\u001B[0m\u001B[0;34m.\u001B[0m\u001B[0msrc\u001B[0m\u001B[0;34m.\u001B[0m\u001B[0msentiment_analyzer\u001B[0m \u001B[0;32mimport\u001B[0m \u001B[0mSentimentAnalyzer\u001B[0m\u001B[0;34m\u001B[0m\u001B[0;34m\u001B[0m\u001B[0m\n\u001B[1;32m      5\u001B[0m \u001B[0;34m\u001B[0m\u001B[0m\n",
      "\u001B[0;31mImportError\u001B[0m: attempted relative import with no known parent package"
     ]
    }
   ],
   "source": [
    "import os\n",
    "from spotify_api import SpotifyAPI\n",
    "from genius_api import GeniusAPI\n",
    "from sentiment_analyzer import SentimentAnalyzer\n",
    "\n",
    "# Load the client access token from an environment variable or configuration file\n",
    "spotify_token = os.environ['SPOTIFY_TOKEN']\n",
    "\n",
    "# Create a SpotifyAPI object to access the Spotify API\n",
    "spotify_api = SpotifyAPI(spotify_token)\n",
    "\n",
    "# Get the IDs of the user's playlists\n",
    "playlist_ids = spotify_api.get_user_playlist_ids()\n",
    "\n",
    "# Create a GeniusAPI object to access the Genius API\n",
    "genius_api = GeniusAPI()\n",
    "\n",
    "# Create a SentimentAnalyzer object to perform sentiment analysis on the lyrics\n",
    "analyzer = SentimentAnalyzer()\n",
    "\n",
    "# Loop through the user's playlists and get the lyrics for each song\n",
    "for playlist_id in playlist_ids:\n",
    "    # Get the song IDs in the playlist\n",
    "    song_ids = spotify_api.get_playlist_song_ids(playlist_id)\n",
    "    \n",
    "    # Loop through the songs and get the lyrics\n",
    "    for song_id in song_ids:\n",
    "        # Get the song information from the Spotify API\n",
    "        song_info = spotify_api.get_song_info(song_id)\n",
    "        \n",
    "        # Get the lyrics from the Genius API\n",
    "        lyrics = genius_api.get_song_lyrics(song_info['artist'], song_info['name'])\n",
    "        \n",
    "        # Perform sentiment analysis on the lyrics\n",
    "        sentiment = analyzer.get_sentiment(lyrics)\n",
    "        \n",
    "        # Print the song information and sentiment score\n",
    "        print(song_info['artist'], \"-\", song_info['name'], \"-\", sentiment)\n"
   ]
  },
  {
   "cell_type": "code",
   "execution_count": null,
   "metadata": {},
   "outputs": [],
   "source": []
  }
 ],
 "metadata": {
  "kernelspec": {
   "display_name": "base",
   "language": "python",
   "name": "python3"
  },
  "language_info": {
   "codemirror_mode": {
    "name": "ipython",
    "version": 3
   },
   "file_extension": ".py",
   "mimetype": "text/x-python",
   "name": "python",
   "nbconvert_exporter": "python",
   "pygments_lexer": "ipython3",
   "version": "3.9.13"
  },
  "orig_nbformat": 4
 },
 "nbformat": 4,
 "nbformat_minor": 2
}
