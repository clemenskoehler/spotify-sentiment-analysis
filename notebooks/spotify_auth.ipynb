{
 "cells": [
  {
   "cell_type": "code",
   "execution_count": null,
   "metadata": {},
   "outputs": [],
   "source": [
    "import os\n",
    "import spotipy\n",
    "from spotipy.oauth2 import SpotifyOAuth\n",
    "\n",
    "# Set the client ID, client secret, and redirect URI for your Spotify API application\n",
    "client_id = \"3b383995aa1e4476aeb8090792356122\"\n",
    "client_secret = \"a985379b0e894d38b9805e326bedf30a\"\n",
    "redirect_uri = \"localhost:8888\"\n",
    "\n",
    "# Authenticate with the Spotify API using the SpotifyOAuth object\n",
    "sp = spotipy.Spotify(auth_manager=SpotifyOAuth(client_id=client_id, client_secret=client_secret, redirect_uri=redirect_uri, scope=\"playlist-read-private\"))\n",
    "\n",
    "# Get the URL to authorize the app with Spotify\n",
    "auth_url = sp.auth_manager.get_authorize_url()\n",
    "\n",
    "# Print the URL and prompt the user to visit it and authorize the app\n",
    "print(\"Please visit this URL to authorize the application: \" + auth_url)\n",
    "\n",
    "# Get the authorization code from the user and exchange it for a client access token\n",
    "code = input(\"Enter the authorization code: \")\n",
    "token_info = sp.auth_manager.get_access_token(code)\n",
    "\n",
    "# Print the client access token\n",
    "print(\"Client access token:\", token_info['access_token'])\n"
   ]
  },
  {
   "cell_type": "code",
   "execution_count": null,
   "metadata": {},
   "outputs": [],
   "source": []
  }
 ],
 "metadata": {
  "kernelspec": {
   "display_name": "base",
   "language": "python",
   "name": "python3"
  },
  "language_info": {
   "name": "python",
   "version": "3.9.13"
  },
  "orig_nbformat": 4
 },
 "nbformat": 4,
 "nbformat_minor": 2
}
